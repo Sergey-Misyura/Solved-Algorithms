{
 "cells": [
  {
   "cell_type": "markdown",
   "metadata": {},
   "source": [
    "## Финальное соревнование\n",
    "\n",
    "##### Автор: [Радослав Нейчев](https://www.linkedin.com/in/radoslav-neychev/), @neychev"
   ]
  },
  {
   "cell_type": "markdown",
   "metadata": {},
   "source": [
    "В данном задании вас ждет неизвестная зависимость. Ваша основная задача: **построить две лучших модели**, минимизирующих среднеквадратичную ошибку (MSE):\n",
    "1. На первую модель не налагается ограничений.\n",
    "2. Вторая модель должна быть **линейной**, т.е. представлять собой линейную комбинацию признаков плюс свободный член: $\\boldsymbol{w}^{\\top}\\boldsymbol{x} + b$. При этом __вы можете использовать базовые математические операции для преобразования признаков__: np.exp, np.log, np.pow (полный список доступен в [документации](https://numpy.org/doc/stable/reference/routines.math.html)), а также линейные операции над ними (сумма, умножение на число и пр.). Для преобразования признаков вам будет необходимо написать функцию `my_transformation`. __Кол-во параметров (весов) используемых второй моделью не должно превышать 15 (включая свободный член).__\n",
    "\n",
    "Настоятельно рекомендуем написать код \"с нуля\", лишь поглядывая на готовые примеры, а не просто \"скопировать-вставить\". Это поможет вам в будущем писать код более уверенно"
   ]
  },
  {
   "cell_type": "code",
   "execution_count": 1,
   "metadata": {},
   "outputs": [],
   "source": [
    "import os\n",
    "import json\n",
    "\n",
    "import pandas as pd\n",
    "import numpy as np\n",
    "from matplotlib import pyplot as plt\n",
    "from sklearn.linear_model import Ridge\n",
    "from sklearn.ensemble import RandomForestRegressor\n",
    "from sklearn.metrics import mean_squared_error\n",
    "from sklearn.model_selection import train_test_split"
   ]
  },
  {
   "cell_type": "code",
   "execution_count": 11,
   "metadata": {},
   "outputs": [],
   "source": [
    "from sklearn.linear_model import LinearRegression\n",
    "from sklearn.preprocessing import StandardScaler"
   ]
  },
  {
   "cell_type": "markdown",
   "metadata": {},
   "source": [
    "Загрузка данных происходит ниже. Если она не срабатывает, самостоятельно скачайте файл `hw_final_open_data.npy` и положите его в ту же директорию, что и ноутбук."
   ]
  },
  {
   "cell_type": "code",
   "execution_count": 2,
   "metadata": {},
   "outputs": [
    {
     "name": "stderr",
     "output_type": "stream",
     "text": [
      "\"wget\" ­Ґ пў«пҐвбп ў­гваҐ­­Ґ© Ё«Ё ў­Ґи­Ґ©\n",
      "Є®¬ ­¤®©, ЁбЇ®«­пҐ¬®© Їа®Ја ¬¬®© Ё«Ё Ї ЄҐв­л¬ д ©«®¬.\n",
      "\"wget\" ­Ґ пў«пҐвбп ў­гваҐ­­Ґ© Ё«Ё ў­Ґи­Ґ©\n",
      "Є®¬ ­¤®©, ЁбЇ®«­пҐ¬®© Їа®Ја ¬¬®© Ё«Ё Ї ЄҐв­л¬ д ©«®¬.\n"
     ]
    }
   ],
   "source": [
    "!wget https://raw.githubusercontent.com/girafe-ai/ml-course/23f_yandex_ml_trainings/homeworks/assignment_final/hw_final_open_data.npy -O hw_final_open_data.npy\n",
    "!wget https://raw.githubusercontent.com/girafe-ai/ml-course/23f_yandex_ml_trainings/homeworks/assignment_final/hw_final_open_target.npy -O hw_final_open_data.npy"
   ]
  },
  {
   "cell_type": "code",
   "execution_count": 864,
   "metadata": {},
   "outputs": [],
   "source": [
    "assert os.path.exists('hw_final_open_data.npy'), 'Please, download `hw_final_open_data.npy` and place it in the working directory'\n",
    "assert os.path.exists('hw_final_open_target.npy'), 'Please, download `hw_final_open_target.npy` and place it in the working directory'\n",
    "data = np.load('hw_final_open_data.npy', allow_pickle=False)\n",
    "target = np.load('hw_final_open_target.npy', allow_pickle=False)"
   ]
  },
  {
   "cell_type": "markdown",
   "metadata": {},
   "source": [
    "Разбивка на `train` и `val` опциональна и сделана для вашего удобства."
   ]
  },
  {
   "cell_type": "code",
   "execution_count": 865,
   "metadata": {},
   "outputs": [],
   "source": [
    "train_x, valid_x, train_y, valid_y = train_test_split(data, target, test_size=0.3)"
   ]
  },
  {
   "cell_type": "code",
   "execution_count": 866,
   "metadata": {},
   "outputs": [
    {
     "data": {
      "text/plain": [
       "(560, 7)"
      ]
     },
     "execution_count": 866,
     "metadata": {},
     "output_type": "execute_result"
    }
   ],
   "source": [
    "train_x.shape"
   ]
  },
  {
   "cell_type": "code",
   "execution_count": 867,
   "metadata": {},
   "outputs": [
    {
     "data": {
      "image/png": "[encoded data removed]",
      "text/plain": [
       "<Figure size 432x288 with 1 Axes>"
      ]
     },
     "metadata": {
      "needs_background": "light"
     },
     "output_type": "display_data"
    }
   ],
   "source": [
    "df = pd.DataFrame(train_x)\n",
    "daf = df.iloc[:,[True, False, True, False,True, False,True]]\n",
    "plt.boxplot(df)\n",
    "plt.show()"
   ]
  },
  {
   "cell_type": "code",
   "execution_count": 6,
   "metadata": {},
   "outputs": [
    {
     "data": {
      "image/png": "[encoded data removed]",
      "text/plain": [
       "<Figure size 432x288 with 1 Axes>"
      ]
     },
     "metadata": {
      "needs_background": "light"
     },
     "output_type": "display_data"
    }
   ],
   "source": [
    "plt.boxplot(pd.DataFrame(train_y))\n",
    "plt.show()"
   ]
  },
  {
   "cell_type": "code",
   "execution_count": 7,
   "metadata": {},
   "outputs": [
    {
     "data": {
      "image/png": "[encoded data removed]",
      "text/plain": [
       "<Figure size 432x288 with 1 Axes>"
      ]
     },
     "metadata": {
      "needs_background": "light"
     },
     "output_type": "display_data"
    }
   ],
   "source": [
    "plt.boxplot(pd.DataFrame(valid_y))\n",
    "plt.show()"
   ]
  },
  {
   "cell_type": "markdown",
   "metadata": {},
   "source": [
    "### Модель №1\n",
    "Напоминаем, в первой части задания ваша основная задача – получить наилучший результат без ограничений на модель. Сдаваться будут только предсказания модели.\n",
    "\n",
    "Пример с использованием Random Forest доступен ниже."
   ]
  },
  {
   "cell_type": "code",
   "execution_count": 67,
   "metadata": {},
   "outputs": [
    {
     "data": {
      "image/png": "[encoded data removed]",
      "text/plain": [
       "<Figure size 288x288 with 1 Axes>"
      ]
     },
     "metadata": {
      "needs_background": "light"
     },
     "output_type": "display_data"
    }
   ],
   "source": [
    "corr_df = pd.DataFrame(np.concatenate((train_x, train_y.reshape(-1,1)), axis=1))\n",
    "\n",
    "plt.matshow(corr_df.corr())\n",
    "plt.show()"
   ]
  },
  {
   "cell_type": "code",
   "execution_count": 68,
   "metadata": {},
   "outputs": [],
   "source": [
    "# drop not corr features\n",
    "train_x = np.delete(train_x, np.s_[2,6], axis=1) \n",
    "valid_x = np.delete(valid_x, np.s_[2,6], axis=1) "
   ]
  },
  {
   "cell_type": "code",
   "execution_count": 17,
   "metadata": {},
   "outputs": [
    {
     "data": {
      "image/png": "[encoded data removed]",
      "text/plain": [
       "<Figure size 288x288 with 1 Axes>"
      ]
     },
     "metadata": {
      "needs_background": "light"
     },
     "output_type": "display_data"
    }
   ],
   "source": [
    "corr_df = pd.DataFrame(np.concatenate((train_x, train_y.reshape(-1,1)), axis=1))\n",
    "\n",
    "plt.matshow(corr_df.corr())\n",
    "plt.show()"
   ]
  },
  {
   "cell_type": "code",
   "execution_count": 18,
   "metadata": {},
   "outputs": [
    {
     "data": {
      "image/png": "[encoded data removed]",
      "text/plain": [
       "<Figure size 432x288 with 1 Axes>"
      ]
     },
     "metadata": {
      "needs_background": "light"
     },
     "output_type": "display_data"
    }
   ],
   "source": [
    "plt.boxplot(pd.DataFrame(np.concatenate((train_x, train_y.reshape(-1,1)), axis=1)))\n",
    "plt.show()"
   ]
  },
  {
   "cell_type": "code",
   "execution_count": 69,
   "metadata": {},
   "outputs": [
    {
     "name": "stdout",
     "output_type": "stream",
     "text": [
      "train mse =\t 0.10848\n",
      "validation mse = 0.30000\n"
     ]
    }
   ],
   "source": [
    "# RandForest\n",
    "rf = RandomForestRegressor()\n",
    "rf.fit(train_x, train_y)\n",
    "\n",
    "print(\n",
    "    f'train mse =\\t {mean_squared_error(np.round(rf.predict(train_x), 2), np.round(train_y)):.5f}',\n",
    "    f'validation mse = {mean_squared_error(np.round(rf.predict(valid_x)), np.round(valid_y)):.5f}',\n",
    "    sep='\\n'\n",
    ")"
   ]
  },
  {
   "cell_type": "code",
   "execution_count": 71,
   "metadata": {},
   "outputs": [
    {
     "name": "stdout",
     "output_type": "stream",
     "text": [
      "train mse =\t 0.18957\n",
      "validation mse = 0.21250\n"
     ]
    }
   ],
   "source": [
    "# LinReg no scaled\n",
    "\n",
    "lr = LinearRegression()\n",
    "lr.fit(train_x, train_y)\n",
    "\n",
    "print(\n",
    "    f'train mse =\\t {mean_squared_error(np.round(lr.predict(train_x), 2), np.round(train_y)):.5f}',\n",
    "    f'validation mse = {mean_squared_error(np.round(lr.predict(valid_x)), np.round(valid_y)):.5f}',\n",
    "    sep='\\n'\n",
    ")"
   ]
  },
  {
   "cell_type": "code",
   "execution_count": 57,
   "metadata": {},
   "outputs": [],
   "source": [
    "# Scale\n",
    "scaler = StandardScaler()\n",
    "scaler.fit(train_x)\n",
    "train_x_scaled = scaler.transform(train_x)\n",
    "#train_x_scaled[:, [2,6]] = train_x[:,[2,6]]\n",
    "#train_x_scaled = np.delete(train_x_scaled, np.s_[2,6], axis=1) \n",
    "\n",
    "valid_x_scaled = scaler.transform(valid_x)\n",
    "#valid_x_scaled[:, [2,6]] = valid_x[:,[2,6]]\n",
    "#valid_x_scaled = np.delete(valid_x_scaled, np.s_[2,6], axis=1) "
   ]
  },
  {
   "cell_type": "code",
   "execution_count": 32,
   "metadata": {},
   "outputs": [
    {
     "name": "stdout",
     "output_type": "stream",
     "text": [
      "train mse =\t 0.10007\n",
      "validation mse = 0.29167\n"
     ]
    }
   ],
   "source": [
    "# Random forest with scaled data\n",
    "# RandForest\n",
    "rf = RandomForestRegressor()\n",
    "rf.fit(train_x_scaled, train_y)\n",
    "\n",
    "print(\n",
    "    f'train mse =\\t {mean_squared_error(np.round(rf.predict(train_x_scaled), 2), np.round(train_y)):.5f}',\n",
    "    f'validation mse = {mean_squared_error(np.round(rf.predict(valid_x_scaled)), np.round(valid_y)):.5f}',\n",
    "    sep='\\n'\n",
    ")"
   ]
  },
  {
   "cell_type": "code",
   "execution_count": 34,
   "metadata": {},
   "outputs": [
    {
     "data": {
      "image/png": "[encoded data removed]",
      "text/plain": [
       "<Figure size 432x288 with 1 Axes>"
      ]
     },
     "metadata": {
      "needs_background": "light"
     },
     "output_type": "display_data"
    }
   ],
   "source": [
    "train_x_scaled\n",
    "plt.boxplot(pd.DataFrame(train_x_scaled))\n",
    "plt.show()"
   ]
  },
  {
   "cell_type": "code",
   "execution_count": 58,
   "metadata": {},
   "outputs": [
    {
     "name": "stdout",
     "output_type": "stream",
     "text": [
      "train mse =\t 0.17640\n",
      "validation mse = 0.26250\n"
     ]
    }
   ],
   "source": [
    "# LinReg scaled\n",
    "\n",
    "lr = LinearRegression()\n",
    "lr.fit(train_x_scaled, train_y)\n",
    "\n",
    "print(\n",
    "    f'train mse =\\t {mean_squared_error(np.round(lr.predict(train_x_scaled), 2), np.round(train_y)):.5f}',\n",
    "    f'validation mse = {mean_squared_error(np.round(lr.predict(valid_x_scaled)), np.round(valid_y)):.5f}',\n",
    "    sep='\\n'\n",
    ")"
   ]
  },
  {
   "cell_type": "code",
   "execution_count": 219,
   "metadata": {},
   "outputs": [
    {
     "name": "stdout",
     "output_type": "stream",
     "text": [
      "0:\tlearn: 0.4831297\ttotal: 13.5ms\tremaining: 257ms\n",
      "1:\tlearn: 0.3663587\ttotal: 23.4ms\tremaining: 210ms\n",
      "2:\tlearn: 0.3379867\ttotal: 34.1ms\tremaining: 193ms\n",
      "3:\tlearn: 0.3268992\ttotal: 43.4ms\tremaining: 174ms\n",
      "4:\tlearn: 0.3152997\ttotal: 55.8ms\tremaining: 167ms\n",
      "5:\tlearn: 0.3023703\ttotal: 68ms\tremaining: 159ms\n",
      "6:\tlearn: 0.2988306\ttotal: 79.8ms\tremaining: 148ms\n",
      "7:\tlearn: 0.2951130\ttotal: 91.6ms\tremaining: 137ms\n",
      "8:\tlearn: 0.2908705\ttotal: 103ms\tremaining: 126ms\n",
      "9:\tlearn: 0.2811682\ttotal: 115ms\tremaining: 115ms\n",
      "10:\tlearn: 0.2775981\ttotal: 127ms\tremaining: 104ms\n",
      "11:\tlearn: 0.2722734\ttotal: 137ms\tremaining: 91.6ms\n",
      "12:\tlearn: 0.2663502\ttotal: 149ms\tremaining: 80ms\n",
      "13:\tlearn: 0.2621487\ttotal: 160ms\tremaining: 68.4ms\n",
      "14:\tlearn: 0.2568578\ttotal: 170ms\tremaining: 56.8ms\n",
      "15:\tlearn: 0.2527427\ttotal: 181ms\tremaining: 45.3ms\n",
      "16:\tlearn: 0.2493228\ttotal: 191ms\tremaining: 33.6ms\n",
      "17:\tlearn: 0.2473687\ttotal: 199ms\tremaining: 22.1ms\n",
      "18:\tlearn: 0.2452535\ttotal: 209ms\tremaining: 11ms\n",
      "19:\tlearn: 0.2448553\ttotal: 219ms\tremaining: 0us\n",
      "train mse =\t 0.20714\n",
      "validation mse = 0.26667\n"
     ]
    }
   ],
   "source": [
    "#CatBoost no Scaled\n",
    "import numpy as np\n",
    "from catboost import Pool, CatBoostRegressor\n",
    "train_pool = Pool(train_x, \n",
    "                  train_y)\n",
    "test_pool = Pool(valid_x) \n",
    "\n",
    "# specify the training parameters \n",
    "CatBoost_model = CatBoostRegressor(iterations=20, \n",
    "                          depth=9, \n",
    "                          learning_rate=1, \n",
    "                          loss_function='RMSE',\n",
    "                                   l2_leaf_reg=1)\n",
    "#train the model\n",
    "CatBoost_model.fit(train_pool)\n",
    "# make the prediction using the resulting model\n",
    "\n",
    "preds_train = CatBoost_model.predict(Pool(train_x))\n",
    "preds_test =  CatBoost_model.predict(test_pool)\n",
    "print(\n",
    "    f'train mse =\\t {mean_squared_error(np.round(preds_train), np.round(train_y)):.5f}',\n",
    "    f'validation mse = {mean_squared_error(np.round(preds_test), np.round(valid_y)):.5f}',\n",
    "    sep='\\n'\n",
    ")"
   ]
  },
  {
   "cell_type": "code",
   "execution_count": 143,
   "metadata": {},
   "outputs": [
    {
     "data": {
      "image/png": "[encoded data removed]",
      "text/plain": [
       "<Figure size 432x288 with 1 Axes>"
      ]
     },
     "metadata": {
      "needs_background": "light"
     },
     "output_type": "display_data"
    }
   ],
   "source": [
    "plt.boxplot(pd.DataFrame(preds_test))\n",
    "plt.show()"
   ]
  },
  {
   "cell_type": "code",
   "execution_count": 236,
   "metadata": {},
   "outputs": [
    {
     "name": "stdout",
     "output_type": "stream",
     "text": [
      "0:\tlearn: 0.5116427\ttotal: 21.4ms\tremaining: 321ms\n",
      "1:\tlearn: 0.3761050\ttotal: 33.8ms\tremaining: 236ms\n",
      "2:\tlearn: 0.3514665\ttotal: 47.4ms\tremaining: 205ms\n",
      "3:\tlearn: 0.3283028\ttotal: 57.4ms\tremaining: 172ms\n",
      "4:\tlearn: 0.3198363\ttotal: 69.6ms\tremaining: 153ms\n",
      "5:\tlearn: 0.3128900\ttotal: 78.1ms\tremaining: 130ms\n",
      "6:\tlearn: 0.3088564\ttotal: 86.5ms\tremaining: 111ms\n",
      "7:\tlearn: 0.3066481\ttotal: 97.4ms\tremaining: 97.4ms\n",
      "8:\tlearn: 0.3012874\ttotal: 106ms\tremaining: 82.3ms\n",
      "9:\tlearn: 0.2894044\ttotal: 112ms\tremaining: 67.3ms\n",
      "10:\tlearn: 0.2850299\ttotal: 119ms\tremaining: 53.9ms\n",
      "11:\tlearn: 0.2815661\ttotal: 125ms\tremaining: 41.8ms\n",
      "12:\tlearn: 0.2800917\ttotal: 132ms\tremaining: 30.6ms\n",
      "13:\tlearn: 0.2788194\ttotal: 140ms\tremaining: 19.9ms\n",
      "14:\tlearn: 0.2784337\ttotal: 146ms\tremaining: 9.73ms\n",
      "15:\tlearn: 0.2724212\ttotal: 153ms\tremaining: 0us\n",
      "train mse =\t 0.24821\n",
      "validation mse = 0.24583\n"
     ]
    },
    {
     "data": {
      "image/png": "[encoded data removed]",
      "text/plain": [
       "<Figure size 432x288 with 1 Axes>"
      ]
     },
     "metadata": {
      "needs_background": "light"
     },
     "output_type": "display_data"
    }
   ],
   "source": [
    "#CatBoost Scaled\n",
    "import numpy as np\n",
    "from catboost import Pool, CatBoostRegressor\n",
    "train_pool = Pool(train_x_scaled, \n",
    "                  train_y)\n",
    "test_pool = Pool(valid_x_scaled) \n",
    "\n",
    "# specify the training parameters \n",
    "CatBoost_model_scaled = CatBoostRegressor(iterations=16, \n",
    "                          depth=9, \n",
    "                          learning_rate=1, \n",
    "                          loss_function='RMSE',\n",
    "                                   l2_leaf_reg=1)\n",
    "#train the model\n",
    "CatBoost_model_scaled.fit(train_pool)\n",
    "# make the prediction using the resulting model\n",
    "\n",
    "preds_train = CatBoost_model_scaled.predict(Pool(train_x_scaled))\n",
    "preds_test =  CatBoost_model_scaled.predict(test_pool)\n",
    "print(\n",
    "    f'train mse =\\t {mean_squared_error(np.round(preds_train), np.round(train_y)):.5f}',\n",
    "    f'validation mse = {mean_squared_error(np.round(preds_test), np.round(valid_y)):.5f}',\n",
    "    sep='\\n'\n",
    ")\n",
    "plt.boxplot(pd.DataFrame(preds_test))\n",
    "plt.show()"
   ]
  },
  {
   "cell_type": "code",
   "execution_count": 331,
   "metadata": {},
   "outputs": [
    {
     "name": "stdout",
     "output_type": "stream",
     "text": [
      "train mse =\t 0.21429\n",
      "validation mse = 0.27917\n"
     ]
    },
    {
     "name": "stderr",
     "output_type": "stream",
     "text": [
      "C:\\Python39\\lib\\site-packages\\lightgbm\\sklearn.py:598: UserWarning: 'silent' argument is deprecated and will be removed in a future release of LightGBM. Pass 'verbose' parameter via keyword arguments instead.\n",
      "  _log_warning(\"'silent' argument is deprecated and will be removed in a future release of LightGBM. \"\n"
     ]
    },
    {
     "data": {
      "image/png": "[encoded data removed]",
      "text/plain": [
       "<Figure size 432x288 with 1 Axes>"
      ]
     },
     "metadata": {
      "needs_background": "light"
     },
     "output_type": "display_data"
    }
   ],
   "source": [
    "# LGBM_reg no scaling\n",
    "from numpy import mean\n",
    "from numpy import std\n",
    "from sklearn.datasets import make_regression\n",
    "from sklearn.model_selection import cross_val_score\n",
    "from sklearn.model_selection import RepeatedKFold\n",
    "from lightgbm import LGBMRegressor\n",
    "\n",
    "# define the model\n",
    "LGBM_reg = LGBMRegressor(boosting_type='gbdt',\n",
    "    num_leaves=30,\n",
    "    max_depth=10,\n",
    "    learning_rate=0.4,\n",
    "    n_estimators=15,\n",
    "    objective='regression', # The default is two categories\n",
    "    reg_alpha = 0,\n",
    "    reg_lambda = 0,\n",
    "    silent=True)\n",
    "LGBM_reg.fit(train_x, train_y, eval_metric = 'mse')\n",
    "preds_train = LGBM_reg.predict(train_x)\n",
    "preds_test = LGBM_reg.predict(valid_x)\n",
    "\n",
    "\n",
    "print(\n",
    "    f'train mse =\\t {mean_squared_error(np.round(preds_train), np.round(train_y)):.5f}',\n",
    "    f'validation mse = {mean_squared_error(np.round(preds_test), np.round(valid_y)):.5f}',\n",
    "    sep='\\n'\n",
    ")\n",
    "plt.boxplot(pd.DataFrame(preds_test))\n",
    "plt.show()"
   ]
  },
  {
   "cell_type": "code",
   "execution_count": 353,
   "metadata": {},
   "outputs": [
    {
     "name": "stdout",
     "output_type": "stream",
     "text": [
      "train mse =\t 0.21071\n",
      "validation mse = 0.27917\n"
     ]
    },
    {
     "name": "stderr",
     "output_type": "stream",
     "text": [
      "C:\\Python39\\lib\\site-packages\\lightgbm\\sklearn.py:598: UserWarning: 'silent' argument is deprecated and will be removed in a future release of LightGBM. Pass 'verbose' parameter via keyword arguments instead.\n",
      "  _log_warning(\"'silent' argument is deprecated and will be removed in a future release of LightGBM. \"\n"
     ]
    },
    {
     "data": {
      "image/png": "[encoded data removed]",
      "text/plain": [
       "<Figure size 432x288 with 1 Axes>"
      ]
     },
     "metadata": {
      "needs_background": "light"
     },
     "output_type": "display_data"
    }
   ],
   "source": [
    "# LGBM_reg scaling\n",
    "from numpy import mean\n",
    "from numpy import std\n",
    "from sklearn.datasets import make_regression\n",
    "from sklearn.model_selection import cross_val_score\n",
    "from sklearn.model_selection import RepeatedKFold\n",
    "from lightgbm import LGBMRegressor\n",
    "\n",
    "# define the model\n",
    "LGBM_reg_scal = LGBMRegressor(boosting_type='gbdt',\n",
    "    num_leaves=30,\n",
    "    max_depth=10,\n",
    "    learning_rate=0.7,\n",
    "    n_estimators=15,\n",
    "    objective='regression', # The default is two categories\n",
    "    reg_alpha = 0,\n",
    "    reg_lambda = 0,\n",
    "    silent=True)\n",
    "LGBM_reg_scal.fit(train_x_scaled, train_y, eval_metric = 'mse')\n",
    "preds_train = LGBM_reg_scal.predict(train_x_scaled)\n",
    "preds_valid = LGBM_reg_scal.predict(valid_x_scaled)\n",
    "\n",
    "\n",
    "print(\n",
    "    f'train mse =\\t {mean_squared_error(np.round(preds_train), np.round(train_y)):.5f}',\n",
    "    f'validation mse = {mean_squared_error(np.round(preds_valid), np.round(valid_y)):.5f}',\n",
    "    sep='\\n'\n",
    ")\n",
    "plt.boxplot(pd.DataFrame(preds_test))\n",
    "plt.show()"
   ]
  },
  {
   "cell_type": "markdown",
   "metadata": {},
   "source": [
    "##### Сдача первой части соревнования\n",
    "Загрузите файл `hw_final_closed_data.npy` (ссылка есть на странице с заданием). Если вы используете sklearn-совместимую модель, для генерации посылки вы можете воспользоваться функцией `get_predictions`. В ином случае перепишите функцию для вашей модели и запустите код под следующей ячейкой для генерации посылки."
   ]
  },
  {
   "cell_type": "code",
   "execution_count": null,
   "metadata": {},
   "outputs": [],
   "source": [
    "!wget https://raw.githubusercontent.com/girafe-ai/ml-course/23f_yandex_ml_trainings/homeworks/assignment_final/hw_final_closed_data.npy -O hw_final_closed_data.npy"
   ]
  },
  {
   "cell_type": "code",
   "execution_count": 72,
   "metadata": {},
   "outputs": [],
   "source": [
    "assert os.path.exists('hw_final_closed_data.npy'), 'Please, download `hw_final_closed_data.npy` and place it in the working directory'\n",
    "closed_data = np.load('hw_final_closed_data.npy', allow_pickle=False)"
   ]
  },
  {
   "cell_type": "code",
   "execution_count": 73,
   "metadata": {
    "scrolled": true
   },
   "outputs": [
    {
     "data": {
      "image/png": "[encoded data removed]",
      "text/plain": [
       "<Figure size 432x288 with 1 Axes>"
      ]
     },
     "metadata": {
      "needs_background": "light"
     },
     "output_type": "display_data"
    }
   ],
   "source": [
    "df_closed_x = pd.DataFrame(closed_data)\n",
    "plt.boxplot(df_closed_x)\n",
    "plt.show()"
   ]
  },
  {
   "cell_type": "markdown",
   "metadata": {},
   "source": [
    "Если необходимо, преобразуйте данные. Преобразованную матрицу объект-признак сохраните в переменную `closed_data`."
   ]
  },
  {
   "cell_type": "code",
   "execution_count": 74,
   "metadata": {},
   "outputs": [],
   "source": [
    "# optional transformations\n",
    "# drop [2,6] from closed data\n",
    "closed_data = np.delete(closed_data, np.s_[2,6], axis=1)\n",
    "#scaled data\n",
    "closed_data_scaled = scaler.transform(closed_data)\n"
   ]
  },
  {
   "cell_type": "code",
   "execution_count": 75,
   "metadata": {},
   "outputs": [],
   "source": [
    "def get_predictions(model, eval_data, step=5):\n",
    "    predicted_values = model.predict(eval_data)\n",
    "    return predicted_values"
   ]
  },
  {
   "cell_type": "markdown",
   "metadata": {},
   "source": [
    "Обращаем ваше внимание, предсказания округляются до сотых!"
   ]
  },
  {
   "cell_type": "code",
   "execution_count": 76,
   "metadata": {},
   "outputs": [],
   "source": [
    "predicted_values = np.round(get_predictions(model=lr, eval_data=closed_data), 2)\n",
    "\n",
    "assert predicted_values.shape == (closed_data.shape[0], ) # predictions should be just one-dimensional array"
   ]
  },
  {
   "cell_type": "code",
   "execution_count": 77,
   "metadata": {},
   "outputs": [
    {
     "data": {
      "text/plain": [
       "array([7.9 , 4.64, 1.14, 8.36, 7.83, 7.41, 4.48, 0.44, 7.99, 5.89, 3.71,\n",
       "       7.95, 8.46, 2.01, 7.2 , 8.47, 8.07, 1.82, 8.01, 8.58, 7.97, 8.41,\n",
       "       7.85, 4.6 , 1.28, 0.44, 6.08, 8.12, 2.03, 8.05, 0.69, 7.94, 8.71,\n",
       "       0.54, 8.26, 8.4 , 8.67, 8.65, 1.15, 1.81, 8.54, 8.1 , 8.29, 4.73,\n",
       "       7.86, 4.37, 3.14, 8.45, 8.16, 7.42, 2.73, 6.24, 0.75, 8.7 , 3.16,\n",
       "       7.89, 8.49, 1.24, 8.56, 8.28, 8.42, 6.55, 2.12, 0.49, 3.04, 8.27,\n",
       "       8.06, 1.83, 7.91, 8.69, 0.94, 3.98, 0.76, 2.31, 0.81, 5.52, 0.49,\n",
       "       8.14, 8.02, 2.54, 3.05, 4.55, 7.46, 4.04, 8.72, 0.47, 8.34, 7.87,\n",
       "       0.92, 8.08, 6.05, 2.98, 8.76, 8.33, 8.21, 8.75, 7.96, 8.3 , 8.18,\n",
       "       8.17, 6.95, 5.22, 5.3 , 1.44, 8.04, 8.2 , 8.61, 4.32, 7.66, 7.81,\n",
       "       0.64, 1.97, 8.35, 1.61, 7.39, 8.  , 0.99, 3.67, 8.03, 7.88, 8.22,\n",
       "       5.37, 8.31, 2.48, 3.66, 5.63, 8.39, 5.53, 1.54, 8.51, 8.64, 7.19,\n",
       "       0.74, 8.48, 8.77, 8.5 , 3.12, 2.88, 8.55, 8.6 , 7.22, 7.98, 8.19,\n",
       "       8.15, 7.82, 4.66, 7.25, 7.38, 7.58, 8.37, 8.62, 8.11, 7.8 , 7.54,\n",
       "       3.74, 2.92, 6.36, 8.53, 8.57, 1.39, 8.66, 8.52, 6.56, 4.71, 8.24,\n",
       "       8.59, 6.63, 8.13, 8.43, 8.32, 3.69, 8.23, 3.06, 8.78, 8.73, 7.92,\n",
       "       1.25, 7.93, 5.12, 8.74, 4.72, 7.79, 7.84, 8.68, 8.38, 8.25, 2.03,\n",
       "       6.21, 3.91, 8.09, 2.08, 0.44, 8.63, 5.86, 8.44, 3.44, 0.48, 5.64,\n",
       "       6.91, 6.87])"
      ]
     },
     "execution_count": 77,
     "metadata": {},
     "output_type": "execute_result"
    }
   ],
   "source": [
    "predicted_values"
   ]
  },
  {
   "cell_type": "code",
   "execution_count": 78,
   "metadata": {},
   "outputs": [
    {
     "data": {
      "image/png": "[encoded data removed]",
      "text/plain": [
       "<Figure size 432x288 with 1 Axes>"
      ]
     },
     "metadata": {
      "needs_background": "light"
     },
     "output_type": "display_data"
    }
   ],
   "source": [
    "plt.boxplot(pd.DataFrame(predicted_values))\n",
    "plt.show()"
   ]
  },
  {
   "cell_type": "markdown",
   "metadata": {},
   "source": [
    "# Closed data to Boosting"
   ]
  },
  {
   "cell_type": "code",
   "execution_count": 357,
   "metadata": {},
   "outputs": [],
   "source": [
    "closed_data_scaled = scaler.transform(closed_data)\n",
    "closed_data_scaled[:, [2,6]] = closed_data[:,[2,6]]\n",
    "closed_data_scaled = np.delete(closed_data_scaled, np.s_[2,6], axis=1) \n",
    "closed_data = Pool(closed_data)"
   ]
  },
  {
   "cell_type": "code",
   "execution_count": 358,
   "metadata": {},
   "outputs": [
    {
     "name": "stdout",
     "output_type": "stream",
     "text": [
      "[7.58 4.51 1.13 7.58 7.58 7.58 4.32 0.38 7.58 5.78 3.84 7.58 7.58 1.9\n",
      " 7.3  7.58 7.58 2.04 7.58 7.58 7.58 7.58 7.58 4.51 1.45 0.38 6.05 7.58\n",
      " 1.9  7.58 0.47 7.58 7.58 0.59 7.58 7.58 7.58 7.58 1.13 2.04 7.58 7.58\n",
      " 7.58 4.83 7.58 4.35 3.32 7.58 7.58 7.58 2.96 6.1  0.71 7.58 3.4  7.58\n",
      " 7.58 1.15 7.58 7.58 7.58 6.67 2.2  0.38 3.07 7.58 7.58 2.04 7.58 7.58\n",
      " 0.94 4.04 0.71 2.48 1.02 5.4  0.38 7.58 7.58 2.35 3.07 4.53 7.58 4.23\n",
      " 7.58 0.38 7.58 7.58 0.94 7.58 6.05 2.78 7.58 7.58 7.58 7.58 7.58 7.58\n",
      " 7.58 7.58 6.72 5.17 5.17 1.46 7.58 7.58 7.58 4.24 7.58 7.58 0.57 1.9\n",
      " 7.58 1.52 7.58 7.58 0.91 3.84 7.58 7.58 7.58 5.17 7.58 2.37 3.89 5.61\n",
      " 7.58 5.4  1.66 7.58 7.58 7.25 0.71 7.58 7.58 7.58 3.32 2.82 7.58 7.58\n",
      " 7.3  7.58 7.58 7.58 7.58 4.51 7.3  7.4  7.58 7.58 7.58 7.58 7.58 7.58\n",
      " 3.78 2.98 6.34 7.58 7.58 1.36 7.58 7.58 6.52 4.83 7.58 7.58 6.52 7.58\n",
      " 7.58 7.58 3.84 7.58 3.07 7.58 7.58 7.58 1.15 7.58 5.19 7.58 4.83 7.58\n",
      " 7.58 7.58 7.58 7.58 1.9  6.1  4.12 7.58 2.   0.38 7.58 5.73 7.58 3.48\n",
      " 0.38 5.61 6.72 6.72]\n"
     ]
    },
    {
     "data": {
      "image/png": "[encoded data removed]",
      "text/plain": [
       "<Figure size 432x288 with 1 Axes>"
      ]
     },
     "metadata": {
      "needs_background": "light"
     },
     "output_type": "display_data"
    }
   ],
   "source": [
    "predicted_values = np.round(get_predictions(model=LGBM_reg_scal, eval_data=closed_data_scaled), 2)\n",
    "\n",
    "assert predicted_values.shape == (closed_data.shape[0], ) # predictions should be just one-dimensional array\n",
    "\n",
    "print(predicted_values)\n",
    "\n",
    "plt.boxplot(pd.DataFrame(predicted_values))\n",
    "plt.show()"
   ]
  },
  {
   "cell_type": "code",
   "execution_count": 79,
   "metadata": {},
   "outputs": [
    {
     "name": "stdout",
     "output_type": "stream",
     "text": [
      "File saved to `submission_dict_final_p01.npy`\n"
     ]
    }
   ],
   "source": [
    "# do not change the code in the block below\n",
    "# __________start of block__________\n",
    "def float_list_to_comma_separated_str(_list):\n",
    "    _list = list(np.round(np.array(_list), 2))\n",
    "    return ','.join([str(x) for x in _list])\n",
    "\n",
    "submission_dict = {\n",
    "    'predictions': float_list_to_comma_separated_str(predicted_values)\n",
    "}\n",
    "with open('submission_dict_final_p01.json', 'w') as iofile:\n",
    "    json.dump(submission_dict, iofile)\n",
    "    \n",
    "print('File saved to `submission_dict_final_p01.npy`')\n",
    "# __________end of block__________"
   ]
  },
  {
   "cell_type": "markdown",
   "metadata": {},
   "source": [
    "## GENERATE 1.37 Prediction"
   ]
  },
  {
   "cell_type": "code",
   "execution_count": 602,
   "metadata": {},
   "outputs": [],
   "source": [
    "train_x, valid_x, train_y, valid_y = train_test_split(data, target, test_size=0.3)"
   ]
  },
  {
   "cell_type": "code",
   "execution_count": 603,
   "metadata": {},
   "outputs": [
    {
     "data": {
      "text/plain": [
       "(560, 7)"
      ]
     },
     "execution_count": 603,
     "metadata": {},
     "output_type": "execute_result"
    }
   ],
   "source": [
    "train_x.shape"
   ]
  },
  {
   "cell_type": "code",
   "execution_count": 604,
   "metadata": {},
   "outputs": [
    {
     "data": {
      "image/png": "[encoded data removed]",
      "text/plain": [
       "<Figure size 288x288 with 1 Axes>"
      ]
     },
     "metadata": {
      "needs_background": "light"
     },
     "output_type": "display_data"
    }
   ],
   "source": [
    "corr_df = pd.DataFrame(np.concatenate((train_x, train_y.reshape(-1,1)), axis=1))\n",
    "\n",
    "plt.matshow(corr_df.corr())\n",
    "plt.show()"
   ]
  },
  {
   "cell_type": "code",
   "execution_count": 605,
   "metadata": {},
   "outputs": [],
   "source": [
    "# drop not corr features\n",
    "train_x = np.delete(train_x, np.s_[2,6], axis=1) \n",
    "valid_x = np.delete(valid_x, np.s_[2,6], axis=1) "
   ]
  },
  {
   "cell_type": "code",
   "execution_count": 606,
   "metadata": {},
   "outputs": [
    {
     "name": "stdout",
     "output_type": "stream",
     "text": [
      "train mse =\t 0.10850\n",
      "validation mse = 0.28750\n"
     ]
    }
   ],
   "source": [
    "# RandForest\n",
    "rf = RandomForestRegressor()\n",
    "rf.fit(train_x, train_y)\n",
    "\n",
    "print(\n",
    "    f'train mse =\\t {mean_squared_error(np.round(rf.predict(train_x), 2), np.round(train_y)):.5f}',\n",
    "    f'validation mse = {mean_squared_error(np.round(rf.predict(valid_x)), np.round(valid_y)):.5f}',\n",
    "    sep='\\n'\n",
    ")"
   ]
  },
  {
   "cell_type": "code",
   "execution_count": 607,
   "metadata": {},
   "outputs": [
    {
     "name": "stdout",
     "output_type": "stream",
     "text": [
      "train mse =\t 0.18855\n",
      "validation mse = 0.22500\n"
     ]
    }
   ],
   "source": [
    "# LinReg no scaled\n",
    "\n",
    "lr = LinearRegression()\n",
    "lr.fit(train_x, train_y)\n",
    "\n",
    "print(\n",
    "    f'train mse =\\t {mean_squared_error(np.round(lr.predict(train_x), 2), np.round(train_y)):.5f}',\n",
    "    f'validation mse = {mean_squared_error(np.round(lr.predict(valid_x)), np.round(valid_y)):.5f}',\n",
    "    sep='\\n'\n",
    ")"
   ]
  },
  {
   "cell_type": "code",
   "execution_count": 131,
   "metadata": {},
   "outputs": [],
   "source": [
    "data_with_drop = np.delete(data, np.s_[2,6], axis=1)  "
   ]
  },
  {
   "cell_type": "code",
   "execution_count": 132,
   "metadata": {},
   "outputs": [
    {
     "name": "stdout",
     "output_type": "stream",
     "text": [
      "train mse =\t 0.18233\n"
     ]
    }
   ],
   "source": [
    "# LinReg on full data\n",
    "\n",
    "lr_full = LinearRegression()\n",
    "lr_full.fit(data_with_drop, target)\n",
    "\n",
    "print(\n",
    "    f'train mse =\\t {mean_squared_error(np.round(lr_full.predict(data_with_drop), 2), np.round(target)):.5f}',\n",
    "    sep='\\n'\n",
    ")"
   ]
  },
  {
   "cell_type": "code",
   "execution_count": 628,
   "metadata": {},
   "outputs": [],
   "source": [
    "assert os.path.exists('hw_final_closed_data.npy'), 'Please, download `hw_final_closed_data.npy` and place it in the working directory'\n",
    "closed_data = np.load('hw_final_closed_data.npy', allow_pickle=False)"
   ]
  },
  {
   "cell_type": "code",
   "execution_count": 629,
   "metadata": {},
   "outputs": [
    {
     "data": {
      "image/png": "[encoded data removed]",
      "text/plain": [
       "<Figure size 432x288 with 1 Axes>"
      ]
     },
     "metadata": {
      "needs_background": "light"
     },
     "output_type": "display_data"
    }
   ],
   "source": [
    "df_closed_x = pd.DataFrame(closed_data)\n",
    "plt.boxplot(df_closed_x)\n",
    "plt.show()"
   ]
  },
  {
   "cell_type": "code",
   "execution_count": 135,
   "metadata": {},
   "outputs": [],
   "source": [
    "# optional transformations\n",
    "# drop [2,6] from closed data\n",
    "closed_data = np.delete(closed_data, np.s_[2,6], axis=1)\n",
    "#scaled data\n",
    "#closed_data_scaled = scaler.transform(closed_data)"
   ]
  },
  {
   "cell_type": "code",
   "execution_count": 136,
   "metadata": {},
   "outputs": [],
   "source": [
    "def get_predictions(model, eval_data, step=5):\n",
    "    predicted_values = model.predict(eval_data)\n",
    "    return predicted_values"
   ]
  },
  {
   "cell_type": "code",
   "execution_count": 147,
   "metadata": {},
   "outputs": [],
   "source": [
    "predicted_values = np.round(get_predictions(model=lr_full, eval_data=closed_data), 2)\n",
    "\n",
    "assert predicted_values.shape == (closed_data.shape[0], ) # predictions should be just one-dimensional array"
   ]
  },
  {
   "cell_type": "code",
   "execution_count": 148,
   "metadata": {},
   "outputs": [
    {
     "data": {
      "text/plain": [
       "array([7.9 , 4.64, 1.11, 8.38, 7.83, 7.4 , 4.49, 0.3 , 7.99, 5.88, 3.72,\n",
       "       7.95, 8.48, 2.  , 7.19, 8.49, 8.08, 1.8 , 8.02, 8.61, 7.97, 8.43,\n",
       "       7.85, 4.61, 1.25, 0.34, 6.07, 8.13, 2.02, 8.06, 0.66, 7.94, 8.74,\n",
       "       0.5 , 8.27, 8.42, 8.7 , 8.68, 1.13, 1.8 , 8.57, 8.11, 8.3 , 4.73,\n",
       "       7.86, 4.38, 3.16, 8.47, 8.17, 7.41, 2.74, 6.23, 0.73, 8.73, 3.17,\n",
       "       7.89, 8.51, 1.22, 8.59, 8.29, 8.44, 6.54, 2.11, 0.43, 3.05, 8.28,\n",
       "       8.07, 1.81, 7.91, 8.72, 0.91, 4.  , 0.73, 2.31, 0.79, 5.52, 0.44,\n",
       "       8.15, 8.03, 2.55, 3.06, 4.56, 7.45, 4.05, 8.75, 0.41, 8.36, 7.87,\n",
       "       0.9 , 8.09, 6.04, 2.99, 8.8 , 8.35, 8.22, 8.79, 7.96, 8.32, 8.19,\n",
       "       8.18, 6.93, 5.22, 5.3 , 1.42, 8.05, 8.21, 8.64, 4.33, 7.66, 7.81,\n",
       "       0.61, 1.96, 8.37, 1.59, 7.38, 8.01, 0.97, 3.69, 8.04, 7.88, 8.23,\n",
       "       5.37, 8.33, 2.48, 3.68, 5.63, 8.41, 5.53, 1.52, 8.53, 8.67, 7.17,\n",
       "       0.72, 8.5 , 8.81, 8.52, 3.13, 2.89, 8.58, 8.63, 7.21, 7.98, 8.2 ,\n",
       "       8.16, 7.82, 4.67, 7.24, 7.37, 7.58, 8.39, 8.65, 8.12, 7.8 , 7.54,\n",
       "       3.75, 2.93, 6.35, 8.55, 8.6 , 1.37, 8.69, 8.54, 6.55, 4.72, 8.25,\n",
       "       8.62, 6.62, 8.14, 8.45, 8.34, 3.7 , 8.24, 3.07, 8.82, 8.76, 7.92,\n",
       "       1.23, 7.93, 5.13, 8.77, 4.72, 7.79, 7.84, 8.71, 8.4 , 8.26, 2.02,\n",
       "       6.2 , 3.93, 8.1 , 2.07, 0.3 , 8.66, 5.86, 8.46, 3.46, 0.42, 5.64,\n",
       "       6.89, 6.86])"
      ]
     },
     "execution_count": 148,
     "metadata": {},
     "output_type": "execute_result"
    }
   ],
   "source": [
    "predicted_values"
   ]
  },
  {
   "cell_type": "code",
   "execution_count": 149,
   "metadata": {},
   "outputs": [
    {
     "data": {
      "image/png": "[encoded data removed]",
      "text/plain": [
       "<Figure size 432x288 with 1 Axes>"
      ]
     },
     "metadata": {
      "needs_background": "light"
     },
     "output_type": "display_data"
    }
   ],
   "source": [
    "plt.boxplot(pd.DataFrame(predicted_values))\n",
    "plt.show()"
   ]
  },
  {
   "cell_type": "code",
   "execution_count": 784,
   "metadata": {},
   "outputs": [
    {
     "name": "stdout",
     "output_type": "stream",
     "text": [
      "File saved to `submission_dict_final_p01.npy`\n"
     ]
    }
   ],
   "source": [
    "# do not change the code in the block below\n",
    "# __________start of block__________\n",
    "def float_list_to_comma_separated_str(_list):\n",
    "    _list = list(np.round(np.array(_list), 2))\n",
    "    return ','.join([str(x) for x in _list])\n",
    "\n",
    "submission_dict = {\n",
    "    'predictions': float_list_to_comma_separated_str(predicted_values)\n",
    "}\n",
    "with open('submission_dict_final_p01.json', 'w') as iofile:\n",
    "    json.dump(submission_dict, iofile)\n",
    "    \n",
    "print('File saved to `submission_dict_final_p01.npy`')\n",
    "# __________end of block__________"
   ]
  },
  {
   "cell_type": "markdown",
   "metadata": {},
   "source": [
    "LR on train_test_split with 30% val = LR on all data = 1.37 points score"
   ]
  },
  {
   "cell_type": "markdown",
   "metadata": {},
   "source": [
    "### Модель №2\n",
    "Функция `my_transformation` принимает на вход матрицу объект-признак (`numpy.ndarray` типа `np.float`) и преобразует ее в новую матрицу. Данная функция может использовать только numpy-операции, а также арифметические действия.\n",
    "\n",
    "Для примера доступна функция ниже. Она лишь добавляет новый признак, представляющий собой произведение первого и второго исходных признаков (считая с нуля)."
   ]
  },
  {
   "cell_type": "code",
   "execution_count": 882,
   "metadata": {},
   "outputs": [],
   "source": [
    "train_x, valid_x, train_y, valid_y = train_test_split(data, target, test_size=0.3)"
   ]
  },
  {
   "cell_type": "code",
   "execution_count": 883,
   "metadata": {},
   "outputs": [
    {
     "data": {
      "image/png": "[encoded data removed]",
      "text/plain": [
       "<Figure size 432x288 with 1 Axes>"
      ]
     },
     "metadata": {
      "needs_background": "light"
     },
     "output_type": "display_data"
    }
   ],
   "source": [
    "plt.boxplot(pd.DataFrame(train_x))\n",
    "plt.show()"
   ]
  },
  {
   "cell_type": "code",
   "execution_count": 884,
   "metadata": {},
   "outputs": [],
   "source": [
    "from sklearn.preprocessing import PolynomialFeatures\n",
    "def my_transformation(feature_matrix: np.ndarray):\n",
    "    #feature_matrix[:,[0,4]] = np.exp(feature_matrix[:,[0,4]])\n",
    "    poly = PolynomialFeatures(2, interaction_only = True, include_bias=False)\n",
    "    feature_matrix = np.delete(feature_matrix, np.s_[2,6], axis=1) \n",
    "    new_feature_matrix = poly.fit_transform(feature_matrix)\n",
    "    return new_feature_matrix"
   ]
  },
  {
   "cell_type": "code",
   "execution_count": 885,
   "metadata": {},
   "outputs": [],
   "source": [
    "transformed_train_x = my_transformation(train_x)"
   ]
  },
  {
   "cell_type": "code",
   "execution_count": 886,
   "metadata": {},
   "outputs": [
    {
     "data": {
      "text/plain": [
       "(560, 15)"
      ]
     },
     "execution_count": 886,
     "metadata": {},
     "output_type": "execute_result"
    }
   ],
   "source": [
    "transformed_train_x.shape"
   ]
  },
  {
   "cell_type": "code",
   "execution_count": 887,
   "metadata": {},
   "outputs": [
    {
     "name": "stdout",
     "output_type": "stream",
     "text": [
      "train mse =\t 0.09155\n",
      "validation mse = 0.08623\n"
     ]
    }
   ],
   "source": [
    "lr = Ridge()\n",
    "lr.fit(transformed_train_x, train_y)\n",
    "\n",
    "print(\n",
    "    f'train mse =\\t {mean_squared_error(lr.predict(transformed_train_x), train_y):.5f}',\n",
    "    f'validation mse = {mean_squared_error(lr.predict(my_transformation(valid_x)), valid_y):.5f}',\n",
    "    sep='\\n'\n",
    ")"
   ]
  },
  {
   "cell_type": "code",
   "execution_count": 807,
   "metadata": {},
   "outputs": [],
   "source": [
    "predicted_values = np.round(get_predictions(model=lr, eval_data=my_transformation(closed_data)), 2)\n",
    "\n",
    "assert predicted_values.shape == (closed_data.shape[0], ) # predictions should be just one-dimensional array"
   ]
  },
  {
   "cell_type": "code",
   "execution_count": 808,
   "metadata": {},
   "outputs": [
    {
     "data": {
      "text/plain": [
       "array([7.91, 4.65, 1.11, 8.38, 7.84, 7.42, 4.5 , 0.3 , 8.  , 5.9 , 3.72,\n",
       "       7.96, 8.48, 1.98, 7.21, 8.49, 8.08, 1.78, 8.02, 8.6 , 7.98, 8.43,\n",
       "       7.86, 4.62, 1.24, 0.35, 6.09, 8.13, 2.  , 8.06, 0.68, 7.95, 8.74,\n",
       "       0.51, 8.28, 8.42, 8.7 , 8.68, 1.12, 1.78, 8.56, 8.11, 8.31, 4.74,\n",
       "       7.87, 4.39, 3.14, 8.47, 8.17, 7.43, 2.72, 6.25, 0.74, 8.73, 3.16,\n",
       "       7.9 , 8.51, 1.21, 8.58, 8.3 , 8.44, 6.56, 2.09, 0.45, 3.03, 8.29,\n",
       "       8.07, 1.79, 7.92, 8.72, 0.92, 4.  , 0.75, 2.29, 0.8 , 5.53, 0.46,\n",
       "       8.15, 8.03, 2.53, 3.04, 4.57, 7.47, 4.05, 8.75, 0.42, 8.36, 7.88,\n",
       "       0.9 , 8.09, 6.06, 2.98, 8.79, 8.35, 8.23, 8.78, 7.97, 8.32, 8.2 ,\n",
       "       8.19, 6.95, 5.23, 5.32, 1.41, 8.05, 8.22, 8.64, 4.34, 7.67, 7.82,\n",
       "       0.63, 1.93, 8.37, 1.57, 7.4 , 8.01, 0.97, 3.68, 8.04, 7.89, 8.24,\n",
       "       5.38, 8.33, 2.45, 3.67, 5.65, 8.41, 5.54, 1.51, 8.53, 8.67, 7.19,\n",
       "       0.73, 8.5 , 8.8 , 8.52, 3.12, 2.87, 8.57, 8.62, 7.23, 7.99, 8.21,\n",
       "       8.16, 7.83, 4.68, 7.26, 7.39, 7.59, 8.39, 8.65, 8.12, 7.81, 7.55,\n",
       "       3.75, 2.91, 6.36, 8.55, 8.59, 1.36, 8.69, 8.54, 6.57, 4.72, 8.26,\n",
       "       8.61, 6.64, 8.14, 8.45, 8.34, 3.7 , 8.25, 3.06, 8.81, 8.76, 7.93,\n",
       "       1.22, 7.94, 5.14, 8.77, 4.73, 7.8 , 7.85, 8.71, 8.4 , 8.27, 1.99,\n",
       "       6.22, 3.93, 8.1 , 2.05, 0.3 , 8.66, 5.87, 8.46, 3.45, 0.44, 5.66,\n",
       "       6.91, 6.87])"
      ]
     },
     "execution_count": 808,
     "metadata": {},
     "output_type": "execute_result"
    }
   ],
   "source": [
    "predicted_values"
   ]
  },
  {
   "cell_type": "markdown",
   "metadata": {},
   "source": [
    "Обращаем ваше внимание, что параметры линейной модели будут округляться до __четырех знаков после запятой__. Это не должно сильно повлиять на качество предсказаний:"
   ]
  },
  {
   "cell_type": "code",
   "execution_count": 498,
   "metadata": {},
   "outputs": [],
   "source": [
    "original_predictions = lr.predict(transformed_train_x)\n",
    "rounded_predictions = transformed_train_x.dot(np.round(lr.coef_, 4)) + np.round(lr.intercept_, 4)\n",
    "\n",
    "\n",
    "assert np.allclose(original_predictions, rounded_predictions, atol=1e-3)"
   ]
  },
  {
   "cell_type": "markdown",
   "metadata": {},
   "source": [
    "Параметры вашей модели:"
   ]
  },
  {
   "cell_type": "code",
   "execution_count": 499,
   "metadata": {},
   "outputs": [
    {
     "name": "stdout",
     "output_type": "stream",
     "text": [
      "w = [0.4631, 0.2847, 0.0232, 1.155, -0.1427, -0.242, 0.0632, -0.1516, -0.0967, -0.5824, 0.0753, -0.0341, -0.0309, 0.0501]\n",
      "b = 1.3672\n"
     ]
    }
   ],
   "source": [
    "w_list = list(np.round(lr.coef_, 4))\n",
    "print(f'w = {list(np.round(lr.coef_, 4))}\\nb = {np.round(lr.intercept_, 4)}')"
   ]
  },
  {
   "cell_type": "code",
   "execution_count": 500,
   "metadata": {},
   "outputs": [
    {
     "data": {
      "text/plain": [
       "14"
      ]
     },
     "execution_count": 500,
     "metadata": {},
     "output_type": "execute_result"
    }
   ],
   "source": [
    "len(w_list)"
   ]
  },
  {
   "cell_type": "markdown",
   "metadata": {},
   "source": [
    "Напоминаем, ваша модель не должна использовать более 15 параметров (14 весов плюс свободный член)."
   ]
  },
  {
   "cell_type": "code",
   "execution_count": 501,
   "metadata": {},
   "outputs": [],
   "source": [
    "assert len(w_list) + 1 <= 15"
   ]
  },
  {
   "cell_type": "code",
   "execution_count": 502,
   "metadata": {},
   "outputs": [
    {
     "data": {
      "text/plain": [
       "1.3672"
      ]
     },
     "execution_count": 502,
     "metadata": {},
     "output_type": "execute_result"
    }
   ],
   "source": [
    "np.round(lr.intercept_, 4)"
   ]
  },
  {
   "cell_type": "markdown",
   "metadata": {},
   "source": [
    "##### Сдача второй части соревнования\n",
    "Для сдачи вам достаточно отправить функцию `my_transformation` и параметры вашей модели в контест в задачу №2. Пример посылки доступен ниже. Имортирование `numpy` также необходимо."
   ]
  },
  {
   "cell_type": "code",
   "execution_count": 217,
   "metadata": {},
   "outputs": [],
   "source": [
    "# __________example_submission_start__________\n",
    "import numpy as np\n",
    "def my_transformation(feature_matrix: np.ndarray):\n",
    "    feature_matrix = np.delete(feature_matrix, np.s_[2,6], axis=1) \n",
    "    new_feature_matrix = np.zeros((feature_matrix.shape[0], feature_matrix.shape[1]+1))\n",
    "    new_feature_matrix[:, :feature_matrix.shape[1]] = feature_matrix\n",
    "    new_feature_matrix[:, -1] = feature_matrix[:, 0] * feature_matrix[:, 1]\n",
    "    return new_feature_matrix\n",
    "\n",
    "w_submission = [-0.0716, 0.7776, 0.5484, 0.1742, 0.7361]\n",
    "b_submission = 3.7269\n",
    "# __________example_submission_end__________"
   ]
  },
  {
   "cell_type": "code",
   "execution_count": null,
   "metadata": {},
   "outputs": [],
   "source": [
    "# my example\n",
    "# __________example_submission_start__________\n",
    "import numpy as np\n",
    "from sklearn.preprocessing import PolynomialFeatures\n",
    "def my_transformation(feature_matrix: np.ndarray):\n",
    "    poly = PolynomialFeatures(3, interaction_only = True, include_bias=False)\n",
    "    feature_matrix = np.delete(feature_matrix, np.s_[0,2,6], axis=1) \n",
    "    new_feature_matrix = poly.fit_transform(feature_matrix)\n",
    "    return new_feature_matrix\n",
    "\n",
    "w_submission = [0.4631, 0.2847, 0.0232, 1.155, -0.1427, -0.242, 0.0632, -0.1516, -0.0967, -0.5824, 0.0753, -0.0341, -0.0309, 0.0501]\n",
    "b_submission = 1.3672\n",
    "# __________example_submission_end__________"
   ]
  },
  {
   "cell_type": "markdown",
   "metadata": {},
   "source": [
    "На этом задание завершено. Поздравляем!"
   ]
  }
 ],
 "metadata": {
  "kernelspec": {
   "display_name": "Python 3 (ipykernel)",
   "language": "python",
   "name": "python3"
  },
  "language_info": {
   "codemirror_mode": {
    "name": "ipython",
    "version": 3
   },
   "file_extension": ".py",
   "mimetype": "text/x-python",
   "name": "python",
   "nbconvert_exporter": "python",
   "pygments_lexer": "ipython3",
   "version": "3.9.7"
  }
 },
 "nbformat": 4,
 "nbformat_minor": 4
}
